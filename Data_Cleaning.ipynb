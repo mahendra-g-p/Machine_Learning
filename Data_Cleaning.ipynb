{
 "cells": [
  {
   "cell_type": "markdown",
   "id": "b1fcc404",
   "metadata": {},
   "source": [
    "## Import Libraries\n",
    "\n",
    "Include the libraries as required"
   ]
  },
  {
   "cell_type": "code",
   "execution_count": 1,
   "id": "d876fd17",
   "metadata": {},
   "outputs": [],
   "source": [
    "import pandas as pd\n",
    "import numpy as np\n",
    "\n",
    "import zipfile\n",
    "\n",
    "# For Visualizations\n",
    "import matplotlib.pyplot as plt\n",
    "import seaborn as sns\n",
    "import plotly.express as px\n",
    "import scipy.stats as stats\n"
   ]
  },
  {
   "cell_type": "markdown",
   "id": "f057fe66",
   "metadata": {},
   "source": [
    "## Data Inspection\n",
    "\n",
    "Let's find out the individual feature information"
   ]
  },
  {
   "cell_type": "code",
   "execution_count": 2,
   "id": "f5c9da7a",
   "metadata": {},
   "outputs": [
    {
     "data": {
      "text/html": [
       "<div>\n",
       "<style scoped>\n",
       "    .dataframe tbody tr th:only-of-type {\n",
       "        vertical-align: middle;\n",
       "    }\n",
       "\n",
       "    .dataframe tbody tr th {\n",
       "        vertical-align: top;\n",
       "    }\n",
       "\n",
       "    .dataframe thead th {\n",
       "        text-align: right;\n",
       "    }\n",
       "</style>\n",
       "<table border=\"1\" class=\"dataframe\">\n",
       "  <thead>\n",
       "    <tr style=\"text-align: right;\">\n",
       "      <th></th>\n",
       "      <th>Customer Id</th>\n",
       "      <th>Artist Name</th>\n",
       "      <th>Artist Reputation</th>\n",
       "      <th>Height</th>\n",
       "      <th>Width</th>\n",
       "      <th>Weight</th>\n",
       "      <th>Material</th>\n",
       "      <th>Price Of Sculpture</th>\n",
       "      <th>Base Shipping Price</th>\n",
       "      <th>International</th>\n",
       "      <th>Express Shipment</th>\n",
       "      <th>Installation Included</th>\n",
       "      <th>Transport</th>\n",
       "      <th>Fragile</th>\n",
       "      <th>Customer Information</th>\n",
       "      <th>Remote Location</th>\n",
       "      <th>Scheduled Date</th>\n",
       "      <th>Delivery Date</th>\n",
       "      <th>Customer Location</th>\n",
       "      <th>Cost</th>\n",
       "    </tr>\n",
       "  </thead>\n",
       "  <tbody>\n",
       "    <tr>\n",
       "      <th>0</th>\n",
       "      <td>fffe3900350033003300</td>\n",
       "      <td>Billy Jenkins</td>\n",
       "      <td>0.26</td>\n",
       "      <td>17.0</td>\n",
       "      <td>6.0</td>\n",
       "      <td>4128.0</td>\n",
       "      <td>Brass</td>\n",
       "      <td>13.91</td>\n",
       "      <td>16.27</td>\n",
       "      <td>Yes</td>\n",
       "      <td>Yes</td>\n",
       "      <td>No</td>\n",
       "      <td>Airways</td>\n",
       "      <td>No</td>\n",
       "      <td>Working Class</td>\n",
       "      <td>No</td>\n",
       "      <td>06/07/15</td>\n",
       "      <td>06/03/15</td>\n",
       "      <td>New Michelle, OH 50777</td>\n",
       "      <td>-283.29</td>\n",
       "    </tr>\n",
       "    <tr>\n",
       "      <th>1</th>\n",
       "      <td>fffe3800330031003900</td>\n",
       "      <td>Jean Bryant</td>\n",
       "      <td>0.28</td>\n",
       "      <td>3.0</td>\n",
       "      <td>3.0</td>\n",
       "      <td>61.0</td>\n",
       "      <td>Brass</td>\n",
       "      <td>6.83</td>\n",
       "      <td>15.00</td>\n",
       "      <td>No</td>\n",
       "      <td>No</td>\n",
       "      <td>No</td>\n",
       "      <td>Roadways</td>\n",
       "      <td>No</td>\n",
       "      <td>Working Class</td>\n",
       "      <td>No</td>\n",
       "      <td>03/06/17</td>\n",
       "      <td>03/05/17</td>\n",
       "      <td>New Michaelport, WY 12072</td>\n",
       "      <td>-159.96</td>\n",
       "    </tr>\n",
       "    <tr>\n",
       "      <th>2</th>\n",
       "      <td>fffe3600370035003100</td>\n",
       "      <td>Laura Miller</td>\n",
       "      <td>0.07</td>\n",
       "      <td>8.0</td>\n",
       "      <td>5.0</td>\n",
       "      <td>237.0</td>\n",
       "      <td>Clay</td>\n",
       "      <td>4.96</td>\n",
       "      <td>21.18</td>\n",
       "      <td>No</td>\n",
       "      <td>No</td>\n",
       "      <td>No</td>\n",
       "      <td>Roadways</td>\n",
       "      <td>Yes</td>\n",
       "      <td>Working Class</td>\n",
       "      <td>Yes</td>\n",
       "      <td>03/09/15</td>\n",
       "      <td>03/08/15</td>\n",
       "      <td>Bowmanshire, WA 19241</td>\n",
       "      <td>-154.29</td>\n",
       "    </tr>\n",
       "    <tr>\n",
       "      <th>3</th>\n",
       "      <td>fffe350031003300</td>\n",
       "      <td>Robert Chaires</td>\n",
       "      <td>0.12</td>\n",
       "      <td>9.0</td>\n",
       "      <td>NaN</td>\n",
       "      <td>NaN</td>\n",
       "      <td>Aluminium</td>\n",
       "      <td>5.81</td>\n",
       "      <td>16.31</td>\n",
       "      <td>No</td>\n",
       "      <td>No</td>\n",
       "      <td>No</td>\n",
       "      <td>NaN</td>\n",
       "      <td>No</td>\n",
       "      <td>Wealthy</td>\n",
       "      <td>Yes</td>\n",
       "      <td>05/24/15</td>\n",
       "      <td>05/20/15</td>\n",
       "      <td>East Robyn, KY 86375</td>\n",
       "      <td>-161.16</td>\n",
       "    </tr>\n",
       "    <tr>\n",
       "      <th>4</th>\n",
       "      <td>fffe3900320038003400</td>\n",
       "      <td>Rosalyn Krol</td>\n",
       "      <td>0.15</td>\n",
       "      <td>17.0</td>\n",
       "      <td>6.0</td>\n",
       "      <td>324.0</td>\n",
       "      <td>Aluminium</td>\n",
       "      <td>3.18</td>\n",
       "      <td>11.94</td>\n",
       "      <td>Yes</td>\n",
       "      <td>Yes</td>\n",
       "      <td>Yes</td>\n",
       "      <td>Airways</td>\n",
       "      <td>No</td>\n",
       "      <td>Working Class</td>\n",
       "      <td>No</td>\n",
       "      <td>12/18/16</td>\n",
       "      <td>12/14/16</td>\n",
       "      <td>Aprilside, PA 52793</td>\n",
       "      <td>-159.23</td>\n",
       "    </tr>\n",
       "    <tr>\n",
       "      <th>5</th>\n",
       "      <td>fffe3300390039003900</td>\n",
       "      <td>Tracy Francis</td>\n",
       "      <td>0.99</td>\n",
       "      <td>46.0</td>\n",
       "      <td>19.0</td>\n",
       "      <td>1178.0</td>\n",
       "      <td>Wood</td>\n",
       "      <td>6.16</td>\n",
       "      <td>16.88</td>\n",
       "      <td>No</td>\n",
       "      <td>Yes</td>\n",
       "      <td>No</td>\n",
       "      <td>NaN</td>\n",
       "      <td>No</td>\n",
       "      <td>Wealthy</td>\n",
       "      <td>No</td>\n",
       "      <td>08/28/15</td>\n",
       "      <td>08/26/15</td>\n",
       "      <td>Maddenberg, AL 43096</td>\n",
       "      <td>-1922.78</td>\n",
       "    </tr>\n",
       "    <tr>\n",
       "      <th>6</th>\n",
       "      <td>fffe3800360033003700</td>\n",
       "      <td>David Hawes</td>\n",
       "      <td>0.64</td>\n",
       "      <td>17.0</td>\n",
       "      <td>9.0</td>\n",
       "      <td>7264.0</td>\n",
       "      <td>Brass</td>\n",
       "      <td>8.26</td>\n",
       "      <td>90.67</td>\n",
       "      <td>No</td>\n",
       "      <td>Yes</td>\n",
       "      <td>No</td>\n",
       "      <td>Roadways</td>\n",
       "      <td>No</td>\n",
       "      <td>Working Class</td>\n",
       "      <td>No</td>\n",
       "      <td>06/05/16</td>\n",
       "      <td>06/02/16</td>\n",
       "      <td>South Matthew, WV 76033</td>\n",
       "      <td>-1536.66</td>\n",
       "    </tr>\n",
       "    <tr>\n",
       "      <th>7</th>\n",
       "      <td>fffe3800300039003800</td>\n",
       "      <td>David Osher</td>\n",
       "      <td>0.74</td>\n",
       "      <td>23.0</td>\n",
       "      <td>10.0</td>\n",
       "      <td>3287.0</td>\n",
       "      <td>Clay</td>\n",
       "      <td>12.81</td>\n",
       "      <td>13.25</td>\n",
       "      <td>Yes</td>\n",
       "      <td>No</td>\n",
       "      <td>No</td>\n",
       "      <td>Waterways</td>\n",
       "      <td>Yes</td>\n",
       "      <td>Wealthy</td>\n",
       "      <td>No</td>\n",
       "      <td>06/04/19</td>\n",
       "      <td>05/31/19</td>\n",
       "      <td>Davidmouth, CA 37824</td>\n",
       "      <td>-422.42</td>\n",
       "    </tr>\n",
       "    <tr>\n",
       "      <th>8</th>\n",
       "      <td>fffe3800330032003900</td>\n",
       "      <td>Arnold Reel</td>\n",
       "      <td>0.00</td>\n",
       "      <td>6.0</td>\n",
       "      <td>4.0</td>\n",
       "      <td>108.0</td>\n",
       "      <td>Clay</td>\n",
       "      <td>3.98</td>\n",
       "      <td>19.76</td>\n",
       "      <td>Yes</td>\n",
       "      <td>No</td>\n",
       "      <td>No</td>\n",
       "      <td>Waterways</td>\n",
       "      <td>Yes</td>\n",
       "      <td>Working Class</td>\n",
       "      <td>Yes</td>\n",
       "      <td>08/27/18</td>\n",
       "      <td>08/23/18</td>\n",
       "      <td>Lisaville, ND 43925</td>\n",
       "      <td>-160.10</td>\n",
       "    </tr>\n",
       "    <tr>\n",
       "      <th>9</th>\n",
       "      <td>fffe3800310031003800</td>\n",
       "      <td>James Comfort</td>\n",
       "      <td>0.12</td>\n",
       "      <td>23.0</td>\n",
       "      <td>9.0</td>\n",
       "      <td>195226.0</td>\n",
       "      <td>Marble</td>\n",
       "      <td>245.63</td>\n",
       "      <td>49.25</td>\n",
       "      <td>No</td>\n",
       "      <td>No</td>\n",
       "      <td>No</td>\n",
       "      <td>Roadways</td>\n",
       "      <td>No</td>\n",
       "      <td>Working Class</td>\n",
       "      <td>No</td>\n",
       "      <td>07/14/16</td>\n",
       "      <td>07/10/16</td>\n",
       "      <td>Jacobland, WV 85997</td>\n",
       "      <td>-834.27</td>\n",
       "    </tr>\n",
       "  </tbody>\n",
       "</table>\n",
       "</div>"
      ],
      "text/plain": [
       "            Customer Id     Artist Name  Artist Reputation  Height  Width  \\\n",
       "0  fffe3900350033003300   Billy Jenkins               0.26    17.0    6.0   \n",
       "1  fffe3800330031003900     Jean Bryant               0.28     3.0    3.0   \n",
       "2  fffe3600370035003100    Laura Miller               0.07     8.0    5.0   \n",
       "3      fffe350031003300  Robert Chaires               0.12     9.0    NaN   \n",
       "4  fffe3900320038003400    Rosalyn Krol               0.15    17.0    6.0   \n",
       "5  fffe3300390039003900   Tracy Francis               0.99    46.0   19.0   \n",
       "6  fffe3800360033003700     David Hawes               0.64    17.0    9.0   \n",
       "7  fffe3800300039003800     David Osher               0.74    23.0   10.0   \n",
       "8  fffe3800330032003900     Arnold Reel               0.00     6.0    4.0   \n",
       "9  fffe3800310031003800   James Comfort               0.12    23.0    9.0   \n",
       "\n",
       "     Weight   Material  Price Of Sculpture  Base Shipping Price International  \\\n",
       "0    4128.0      Brass               13.91                16.27           Yes   \n",
       "1      61.0      Brass                6.83                15.00            No   \n",
       "2     237.0       Clay                4.96                21.18            No   \n",
       "3       NaN  Aluminium                5.81                16.31            No   \n",
       "4     324.0  Aluminium                3.18                11.94           Yes   \n",
       "5    1178.0       Wood                6.16                16.88            No   \n",
       "6    7264.0      Brass                8.26                90.67            No   \n",
       "7    3287.0       Clay               12.81                13.25           Yes   \n",
       "8     108.0       Clay                3.98                19.76           Yes   \n",
       "9  195226.0     Marble              245.63                49.25            No   \n",
       "\n",
       "  Express Shipment Installation Included  Transport Fragile  \\\n",
       "0              Yes                    No    Airways      No   \n",
       "1               No                    No   Roadways      No   \n",
       "2               No                    No   Roadways     Yes   \n",
       "3               No                    No        NaN      No   \n",
       "4              Yes                   Yes    Airways      No   \n",
       "5              Yes                    No        NaN      No   \n",
       "6              Yes                    No   Roadways      No   \n",
       "7               No                    No  Waterways     Yes   \n",
       "8               No                    No  Waterways     Yes   \n",
       "9               No                    No   Roadways      No   \n",
       "\n",
       "  Customer Information Remote Location Scheduled Date Delivery Date  \\\n",
       "0        Working Class              No       06/07/15      06/03/15   \n",
       "1        Working Class              No       03/06/17      03/05/17   \n",
       "2        Working Class             Yes       03/09/15      03/08/15   \n",
       "3              Wealthy             Yes       05/24/15      05/20/15   \n",
       "4        Working Class              No       12/18/16      12/14/16   \n",
       "5              Wealthy              No       08/28/15      08/26/15   \n",
       "6        Working Class              No       06/05/16      06/02/16   \n",
       "7              Wealthy              No       06/04/19      05/31/19   \n",
       "8        Working Class             Yes       08/27/18      08/23/18   \n",
       "9        Working Class              No       07/14/16      07/10/16   \n",
       "\n",
       "           Customer Location     Cost  \n",
       "0     New Michelle, OH 50777  -283.29  \n",
       "1  New Michaelport, WY 12072  -159.96  \n",
       "2      Bowmanshire, WA 19241  -154.29  \n",
       "3       East Robyn, KY 86375  -161.16  \n",
       "4        Aprilside, PA 52793  -159.23  \n",
       "5       Maddenberg, AL 43096 -1922.78  \n",
       "6    South Matthew, WV 76033 -1536.66  \n",
       "7       Davidmouth, CA 37824  -422.42  \n",
       "8        Lisaville, ND 43925  -160.10  \n",
       "9        Jacobland, WV 85997  -834.27  "
      ]
     },
     "execution_count": 2,
     "metadata": {},
     "output_type": "execute_result"
    }
   ],
   "source": [
    "zf = zipfile.ZipFile('hackerearth-machine-learning-exhibit-art.zip') \n",
    "\n",
    "shipping_data = pd.read_csv(zf.open('dataset/train.csv'))\n",
    "shipping_data.head(10)"
   ]
  },
  {
   "cell_type": "code",
   "execution_count": 3,
   "id": "83052876",
   "metadata": {},
   "outputs": [
    {
     "name": "stdout",
     "output_type": "stream",
     "text": [
      "<class 'pandas.core.frame.DataFrame'>\n",
      "RangeIndex: 6500 entries, 0 to 6499\n",
      "Data columns (total 20 columns):\n",
      " #   Column                 Non-Null Count  Dtype  \n",
      "---  ------                 --------------  -----  \n",
      " 0   Customer Id            6500 non-null   object \n",
      " 1   Artist Name            6500 non-null   object \n",
      " 2   Artist Reputation      5750 non-null   float64\n",
      " 3   Height                 6125 non-null   float64\n",
      " 4   Width                  5916 non-null   float64\n",
      " 5   Weight                 5913 non-null   float64\n",
      " 6   Material               5736 non-null   object \n",
      " 7   Price Of Sculpture     6500 non-null   float64\n",
      " 8   Base Shipping Price    6500 non-null   float64\n",
      " 9   International          6500 non-null   object \n",
      " 10  Express Shipment       6500 non-null   object \n",
      " 11  Installation Included  6500 non-null   object \n",
      " 12  Transport              5108 non-null   object \n",
      " 13  Fragile                6500 non-null   object \n",
      " 14  Customer Information   6500 non-null   object \n",
      " 15  Remote Location        5729 non-null   object \n",
      " 16  Scheduled Date         6500 non-null   object \n",
      " 17  Delivery Date          6500 non-null   object \n",
      " 18  Customer Location      6500 non-null   object \n",
      " 19  Cost                   6500 non-null   float64\n",
      "dtypes: float64(7), object(13)\n",
      "memory usage: 1015.8+ KB\n"
     ]
    }
   ],
   "source": [
    "shipping_data.info()"
   ]
  },
  {
   "cell_type": "markdown",
   "id": "1f1f5d27",
   "metadata": {},
   "source": [
    "- There are 6500 rows in the dataset with 20 features.\n",
    "- The dataset consists of both quantitative and qualitative data.\n",
    "- It seems to be there are null values in the dataset."
   ]
  },
  {
   "cell_type": "markdown",
   "id": "01cfbe44",
   "metadata": {},
   "source": [
    "| Column Name             |        Column Description |\n",
    "| ------------------------| --------------------------------------------------------------------|\n",
    "| Customer Id             |        Represents the unique identification number of the customers |\n",
    "| Artist Name             |        Represents the name of the artist |\n",
    "| Artist Reputation       |        Represents the reputation of an artist in the market (the greater the reputation value,the higher the reputation of the artist in the market) |\n",
    "| Height                  |        Represents the height of the sculpture |\n",
    "| Width                   |        Represents the width of the sculpture |\n",
    "| Weight                  |        Represents the  weight of the sculpture |\n",
    "| Material                |        Represents the material that the sculpture is made of |\n",
    "| Price Of Sculpture      |        Represents the price of the sculpture |\n",
    "| Base Shipping Price     |        Represents the base price for shipping a sculpture |\n",
    "| International           |        Represents whether the shipping is international |\n",
    "| Express Shipment        |        Represents whether the shipping was in the express (fast) mode |\n",
    "| Installation Included   |        Represents whether the order had installation included in the purchase of the sculpture |\n",
    "| Transport               |        Represents the mode of transport of the order |\n",
    "| Fragile                 |        Represents whether the order is fragile |\n",
    "| Customer Information    |        Represents  details about a customer |\n",
    "| Remote Location         |        Represents whether the customer resides in a remote location |\n",
    "| Scheduled Date          |        Represents the date when the order was placed |\n",
    "| Delivery Date           |        Represents the date of delivery of the order |\n",
    "| Customer Location       |        Represents the location of the customer |\n",
    "| Cost                    |        Represents the cost of the order |"
   ]
  },
  {
   "cell_type": "markdown",
   "id": "d0711b1f",
   "metadata": {},
   "source": [
    "#### Correct the data type of Data columns"
   ]
  },
  {
   "cell_type": "code",
   "execution_count": 4,
   "id": "a1db8fdd",
   "metadata": {},
   "outputs": [],
   "source": [
    "# convert date object data type to datetime\n",
    "shipping_data[\"Scheduled Date\"] = pd.to_datetime(shipping_data[\"Scheduled Date\"], \\\n",
    "                                                       errors = 'coerce')\n",
    "shipping_data[\"Delivery Date\"] = pd.to_datetime(shipping_data[\"Delivery Date\"], \\\n",
    "                                                      errors = 'coerce')"
   ]
  },
  {
   "cell_type": "markdown",
   "id": "2e3ff9ef",
   "metadata": {},
   "source": [
    "- Now the data types are corrected. Let's clean the data."
   ]
  },
  {
   "cell_type": "markdown",
   "id": "1893d0a2",
   "metadata": {},
   "source": [
    "#### Let's find out how many null values exist in each feature"
   ]
  },
  {
   "cell_type": "code",
   "execution_count": 5,
   "id": "2ce1cb04",
   "metadata": {},
   "outputs": [
    {
     "data": {
      "text/plain": [
       "Customer Id                 0\n",
       "Artist Name                 0\n",
       "Artist Reputation         750\n",
       "Height                    375\n",
       "Width                     584\n",
       "Weight                    587\n",
       "Material                  764\n",
       "Price Of Sculpture          0\n",
       "Base Shipping Price         0\n",
       "International               0\n",
       "Express Shipment            0\n",
       "Installation Included       0\n",
       "Transport                1392\n",
       "Fragile                     0\n",
       "Customer Information        0\n",
       "Remote Location           771\n",
       "Scheduled Date              0\n",
       "Delivery Date               0\n",
       "Customer Location           0\n",
       "Cost                        0\n",
       "dtype: int64"
      ]
     },
     "execution_count": 5,
     "metadata": {},
     "output_type": "execute_result"
    }
   ],
   "source": [
    "shipping_data.isna().sum()"
   ]
  },
  {
   "cell_type": "markdown",
   "id": "1b078b1a",
   "metadata": {},
   "source": [
    "- Features like \"Artist Reputation\", \"Height\", \"Weight\", \"Material\", \"Transport\", \"Remote Location\" are having null values.\n",
    "\n",
    "\n",
    "    Let's find out the percentage of null values in each feature and decide whether to do so imputation on them or not."
   ]
  },
  {
   "cell_type": "code",
   "execution_count": 6,
   "id": "c9ce60a6",
   "metadata": {},
   "outputs": [
    {
     "data": {
      "text/html": [
       "<div>\n",
       "<style scoped>\n",
       "    .dataframe tbody tr th:only-of-type {\n",
       "        vertical-align: middle;\n",
       "    }\n",
       "\n",
       "    .dataframe tbody tr th {\n",
       "        vertical-align: top;\n",
       "    }\n",
       "\n",
       "    .dataframe thead th {\n",
       "        text-align: right;\n",
       "    }\n",
       "</style>\n",
       "<table border=\"1\" class=\"dataframe\">\n",
       "  <thead>\n",
       "    <tr style=\"text-align: right;\">\n",
       "      <th></th>\n",
       "      <th>% null values</th>\n",
       "    </tr>\n",
       "  </thead>\n",
       "  <tbody>\n",
       "    <tr>\n",
       "      <th>Customer Id</th>\n",
       "      <td>0.00</td>\n",
       "    </tr>\n",
       "    <tr>\n",
       "      <th>Artist Name</th>\n",
       "      <td>0.00</td>\n",
       "    </tr>\n",
       "    <tr>\n",
       "      <th>Artist Reputation</th>\n",
       "      <td>11.54</td>\n",
       "    </tr>\n",
       "    <tr>\n",
       "      <th>Height</th>\n",
       "      <td>5.77</td>\n",
       "    </tr>\n",
       "    <tr>\n",
       "      <th>Width</th>\n",
       "      <td>8.98</td>\n",
       "    </tr>\n",
       "    <tr>\n",
       "      <th>Weight</th>\n",
       "      <td>9.03</td>\n",
       "    </tr>\n",
       "    <tr>\n",
       "      <th>Material</th>\n",
       "      <td>11.75</td>\n",
       "    </tr>\n",
       "    <tr>\n",
       "      <th>Price Of Sculpture</th>\n",
       "      <td>0.00</td>\n",
       "    </tr>\n",
       "    <tr>\n",
       "      <th>Base Shipping Price</th>\n",
       "      <td>0.00</td>\n",
       "    </tr>\n",
       "    <tr>\n",
       "      <th>International</th>\n",
       "      <td>0.00</td>\n",
       "    </tr>\n",
       "    <tr>\n",
       "      <th>Express Shipment</th>\n",
       "      <td>0.00</td>\n",
       "    </tr>\n",
       "    <tr>\n",
       "      <th>Installation Included</th>\n",
       "      <td>0.00</td>\n",
       "    </tr>\n",
       "    <tr>\n",
       "      <th>Transport</th>\n",
       "      <td>21.42</td>\n",
       "    </tr>\n",
       "    <tr>\n",
       "      <th>Fragile</th>\n",
       "      <td>0.00</td>\n",
       "    </tr>\n",
       "    <tr>\n",
       "      <th>Customer Information</th>\n",
       "      <td>0.00</td>\n",
       "    </tr>\n",
       "    <tr>\n",
       "      <th>Remote Location</th>\n",
       "      <td>11.86</td>\n",
       "    </tr>\n",
       "    <tr>\n",
       "      <th>Scheduled Date</th>\n",
       "      <td>0.00</td>\n",
       "    </tr>\n",
       "    <tr>\n",
       "      <th>Delivery Date</th>\n",
       "      <td>0.00</td>\n",
       "    </tr>\n",
       "    <tr>\n",
       "      <th>Customer Location</th>\n",
       "      <td>0.00</td>\n",
       "    </tr>\n",
       "    <tr>\n",
       "      <th>Cost</th>\n",
       "      <td>0.00</td>\n",
       "    </tr>\n",
       "  </tbody>\n",
       "</table>\n",
       "</div>"
      ],
      "text/plain": [
       "                       % null values\n",
       "Customer Id                     0.00\n",
       "Artist Name                     0.00\n",
       "Artist Reputation              11.54\n",
       "Height                          5.77\n",
       "Width                           8.98\n",
       "Weight                          9.03\n",
       "Material                       11.75\n",
       "Price Of Sculpture              0.00\n",
       "Base Shipping Price             0.00\n",
       "International                   0.00\n",
       "Express Shipment                0.00\n",
       "Installation Included           0.00\n",
       "Transport                      21.42\n",
       "Fragile                         0.00\n",
       "Customer Information            0.00\n",
       "Remote Location                11.86\n",
       "Scheduled Date                  0.00\n",
       "Delivery Date                   0.00\n",
       "Customer Location               0.00\n",
       "Cost                            0.00"
      ]
     },
     "execution_count": 6,
     "metadata": {},
     "output_type": "execute_result"
    }
   ],
   "source": [
    "pd.Series(round(shipping_data.isnull().mean()*100,2), name= '% null values').to_frame()"
   ]
  },
  {
   "cell_type": "markdown",
   "id": "bdb7b54c",
   "metadata": {},
   "source": [
    "* Firstly, the dataset doesn't have any variables/features with more than 50% null values. So for now all variables can be retained.\n",
    "* Among all the variables, Transport (21.42%) has the highest number of null values followed by Remote Location (11.86%), Material (11.75%), Artist Reputation (11.54%), Weight (9.03%), Width (8.98%), Height (5.77%).\n",
    "* For the categorical variables like Transport, Remote Location & Material, their respective column's mode can be used for imputation.\n",
    "* Whereas, for the numerical variables like Artist Reputation, Weight, Width & Height, it is better to have a look at their distributions and decide on what need to be used for filling null values."
   ]
  },
  {
   "cell_type": "markdown",
   "id": "09b6dc98",
   "metadata": {},
   "source": [
    "#### Let's start with understanding the data distribution in \"Artist Reputation\" feature"
   ]
  },
  {
   "cell_type": "code",
   "execution_count": 7,
   "id": "7bad12e9",
   "metadata": {},
   "outputs": [
    {
     "data": {
      "text/plain": [
       "<matplotlib.lines.Line2D at 0x7fe59a80ce80>"
      ]
     },
     "execution_count": 7,
     "metadata": {},
     "output_type": "execute_result"
    },
    {
     "data": {
      "image/png": "[encoded data removed]",
      "text/plain": [
       "<Figure size 640x480 with 1 Axes>"
      ]
     },
     "metadata": {},
     "output_type": "display_data"
    }
   ],
   "source": [
    "plt.hist(shipping_data[\"Artist Reputation\"], bins=20, color='y', edgecolor='k', alpha=0.65)\n",
    "plt.xlabel(\"Artist Reputation\")\n",
    "plt.ylabel(\"Count\")\n",
    "plt.title(\"Histogram on Artist Reputation column\")\n",
    "\n",
    "plt.axvline(shipping_data[\"Artist Reputation\"].mean(), color='k', linestyle='dashed', linewidth=1)\n",
    "plt.axvline(shipping_data[\"Artist Reputation\"].median(), color='r', linestyle='solid', linewidth=1)"
   ]
  },
  {
   "cell_type": "markdown",
   "id": "c947c8fa",
   "metadata": {},
   "source": [
    "- Data in the Artist Reputation column is pretty much normally distributed with mean and median almost equal to each other.\n",
    "- So, imputation for this feature can be done with either median or mean."
   ]
  },
  {
   "cell_type": "markdown",
   "id": "bea46033",
   "metadata": {},
   "source": [
    "#### Now, let's see the distributions of height and width as well."
   ]
  },
  {
   "cell_type": "code",
   "execution_count": 8,
   "id": "34944ac7",
   "metadata": {},
   "outputs": [
    {
     "data": {
      "text/plain": [
       "<matplotlib.lines.Line2D at 0x7fe5abac83d0>"
      ]
     },
     "execution_count": 8,
     "metadata": {},
     "output_type": "execute_result"
    },
    {
     "data": {
      "image/png": "[encoded data removed]",
      "text/plain": [
       "<Figure size 640x480 with 1 Axes>"
      ]
     },
     "metadata": {},
     "output_type": "display_data"
    }
   ],
   "source": [
    "plt.hist(shipping_data[\"Height\"], bins=20, color='c', edgecolor='k', alpha=0.65)\n",
    "plt.xlabel(\"Height in inches\")\n",
    "plt.ylabel(\"Count\")\n",
    "plt.title(\"Histogram on Height column\")\n",
    "plt.axvline(shipping_data[\"Height\"].mean(), color='k', linestyle='dashed', linewidth=1)\n",
    "plt.axvline(shipping_data[\"Height\"].median(), color='r', linestyle='solid', linewidth=1)"
   ]
  },
  {
   "cell_type": "code",
   "execution_count": 9,
   "id": "d55dbe14",
   "metadata": {},
   "outputs": [
    {
     "data": {
      "text/plain": [
       "<matplotlib.lines.Line2D at 0x7fe5ababe610>"
      ]
     },
     "execution_count": 9,
     "metadata": {},
     "output_type": "execute_result"
    },
    {
     "data": {
      "image/png": "[encoded data removed]",
      "text/plain": [
       "<Figure size 640x480 with 1 Axes>"
      ]
     },
     "metadata": {},
     "output_type": "display_data"
    }
   ],
   "source": [
    "plt.hist(shipping_data[\"Width\"], bins=20, color='b', edgecolor='k', alpha=0.65)\n",
    "plt.xlabel(\"Width in inches\")\n",
    "plt.ylabel(\"Count\")\n",
    "plt.title(\"Histogram on Width column\")\n",
    "plt.axvline(shipping_data[\"Width\"].mean(), color='k', linestyle='dashed', linewidth=1)\n",
    "plt.axvline(shipping_data[\"Width\"].median(), color='r', linestyle='solid', linewidth=1)"
   ]
  },
  {
   "cell_type": "markdown",
   "id": "ca5a25ee",
   "metadata": {},
   "source": [
    "- In both the cases of height and width, the data is right skewed. \n",
    "- In that case, median is a best choice to fill the null values.\n",
    "\n",
    "#### Now, explore the distribution of weight column. \n",
    "\n",
    "In general, weight of any product depends on the material it is made of. Rathering filling the null values with the median/mean of the entire distribution, it would be ideal if they are replaced according to the respective material's measure. So it would be better to find out the distributions of weight column data for each material to decide which is best to fill the null values."
   ]
  },
  {
   "cell_type": "code",
   "execution_count": 10,
   "id": "8e716f60",
   "metadata": {
    "scrolled": false
   },
   "outputs": [
    {
     "data": {
      "text/plain": [
       "array([[<AxesSubplot:title={'center':'Aluminium'}>,\n",
       "        <AxesSubplot:title={'center':'Brass'}>,\n",
       "        <AxesSubplot:title={'center':'Bronze'}>],\n",
       "       [<AxesSubplot:title={'center':'Clay'}>,\n",
       "        <AxesSubplot:title={'center':'Marble'}>,\n",
       "        <AxesSubplot:title={'center':'Stone'}>],\n",
       "       [<AxesSubplot:title={'center':'Wood'}>, <AxesSubplot:>,\n",
       "        <AxesSubplot:>]], dtype=object)"
      ]
     },
     "execution_count": 10,
     "metadata": {},
     "output_type": "execute_result"
    },
    {
     "data": {
      "image/png": "[encoded data removed]",
      "text/plain": [
       "<Figure size 2000x2000 with 9 Axes>"
      ]
     },
     "metadata": {},
     "output_type": "display_data"
    }
   ],
   "source": [
    "shipping_data['Weight'].hist(by=shipping_data['Material'], figsize = (20,20))"
   ]
  },
  {
   "cell_type": "markdown",
   "id": "6a7d35b3",
   "metadata": {},
   "source": [
    "- Surprisingly, almost all the materials have skewed distributions of weights. So it would be better to use the median of weights for each material as imputation.\n",
    "\n",
    "\n",
    "#### Now, let's inspect the material column distribution"
   ]
  },
  {
   "cell_type": "code",
   "execution_count": 11,
   "id": "292a8b48",
   "metadata": {},
   "outputs": [
    {
     "data": {
      "text/html": [
       "<div>\n",
       "<style scoped>\n",
       "    .dataframe tbody tr th:only-of-type {\n",
       "        vertical-align: middle;\n",
       "    }\n",
       "\n",
       "    .dataframe tbody tr th {\n",
       "        vertical-align: top;\n",
       "    }\n",
       "\n",
       "    .dataframe thead th {\n",
       "        text-align: right;\n",
       "    }\n",
       "</style>\n",
       "<table border=\"1\" class=\"dataframe\">\n",
       "  <thead>\n",
       "    <tr style=\"text-align: right;\">\n",
       "      <th></th>\n",
       "      <th>observation count for each material</th>\n",
       "    </tr>\n",
       "  </thead>\n",
       "  <tbody>\n",
       "    <tr>\n",
       "      <th>Brass</th>\n",
       "      <td>847</td>\n",
       "    </tr>\n",
       "    <tr>\n",
       "      <th>Aluminium</th>\n",
       "      <td>845</td>\n",
       "    </tr>\n",
       "    <tr>\n",
       "      <th>Bronze</th>\n",
       "      <td>821</td>\n",
       "    </tr>\n",
       "    <tr>\n",
       "      <th>Marble</th>\n",
       "      <td>819</td>\n",
       "    </tr>\n",
       "    <tr>\n",
       "      <th>Clay</th>\n",
       "      <td>816</td>\n",
       "    </tr>\n",
       "    <tr>\n",
       "      <th>Wood</th>\n",
       "      <td>816</td>\n",
       "    </tr>\n",
       "    <tr>\n",
       "      <th>Stone</th>\n",
       "      <td>772</td>\n",
       "    </tr>\n",
       "  </tbody>\n",
       "</table>\n",
       "</div>"
      ],
      "text/plain": [
       "           observation count for each material\n",
       "Brass                                      847\n",
       "Aluminium                                  845\n",
       "Bronze                                     821\n",
       "Marble                                     819\n",
       "Clay                                       816\n",
       "Wood                                       816\n",
       "Stone                                      772"
      ]
     },
     "execution_count": 11,
     "metadata": {},
     "output_type": "execute_result"
    }
   ],
   "source": [
    "pd.Series(shipping_data.Material.value_counts(), name = 'observation count for each material').to_frame()"
   ]
  },
  {
   "cell_type": "markdown",
   "id": "ba64a3b8",
   "metadata": {},
   "source": [
    "- Data in the material is likely unifromly distributed. Usually, in the case of qualitative data, mode is frequently used as an imputation. \n",
    "- But, in this scenario it would be not ideal to use the mode to replace the null values. So, better to update the null values as \"Material_NA\""
   ]
  },
  {
   "cell_type": "markdown",
   "id": "a5d6506f",
   "metadata": {},
   "source": [
    "#### Now, let's explore the missing data in Transport column\n",
    "\n",
    "\n",
    "In general, a specific means of transportation is preferred for every material shipment. Like fragile things are preferred to be transported through roadways than waterways.\n",
    "\n",
    "\n",
    "So, let's explore what is the most preferential means of transport for every material. This can be achieved by grouping the data by material and then by transport and find the frequency."
   ]
  },
  {
   "cell_type": "code",
   "execution_count": 12,
   "id": "f8b18e2a",
   "metadata": {},
   "outputs": [
    {
     "data": {
      "text/html": [
       "<div>\n",
       "<style scoped>\n",
       "    .dataframe tbody tr th:only-of-type {\n",
       "        vertical-align: middle;\n",
       "    }\n",
       "\n",
       "    .dataframe tbody tr th {\n",
       "        vertical-align: top;\n",
       "    }\n",
       "\n",
       "    .dataframe thead th {\n",
       "        text-align: right;\n",
       "    }\n",
       "</style>\n",
       "<table border=\"1\" class=\"dataframe\">\n",
       "  <thead>\n",
       "    <tr style=\"text-align: right;\">\n",
       "      <th></th>\n",
       "      <th>Material</th>\n",
       "      <th>Transport</th>\n",
       "      <th>Count</th>\n",
       "    </tr>\n",
       "  </thead>\n",
       "  <tbody>\n",
       "    <tr>\n",
       "      <th>0</th>\n",
       "      <td>Aluminium</td>\n",
       "      <td>Airways</td>\n",
       "      <td>247</td>\n",
       "    </tr>\n",
       "    <tr>\n",
       "      <th>1</th>\n",
       "      <td>Aluminium</td>\n",
       "      <td>Roadways</td>\n",
       "      <td>294</td>\n",
       "    </tr>\n",
       "    <tr>\n",
       "      <th>2</th>\n",
       "      <td>Aluminium</td>\n",
       "      <td>Waterways</td>\n",
       "      <td>175</td>\n",
       "    </tr>\n",
       "    <tr>\n",
       "      <th>3</th>\n",
       "      <td>Brass</td>\n",
       "      <td>Airways</td>\n",
       "      <td>218</td>\n",
       "    </tr>\n",
       "    <tr>\n",
       "      <th>4</th>\n",
       "      <td>Brass</td>\n",
       "      <td>Roadways</td>\n",
       "      <td>276</td>\n",
       "    </tr>\n",
       "    <tr>\n",
       "      <th>5</th>\n",
       "      <td>Brass</td>\n",
       "      <td>Waterways</td>\n",
       "      <td>177</td>\n",
       "    </tr>\n",
       "    <tr>\n",
       "      <th>6</th>\n",
       "      <td>Bronze</td>\n",
       "      <td>Airways</td>\n",
       "      <td>234</td>\n",
       "    </tr>\n",
       "    <tr>\n",
       "      <th>7</th>\n",
       "      <td>Bronze</td>\n",
       "      <td>Roadways</td>\n",
       "      <td>245</td>\n",
       "    </tr>\n",
       "    <tr>\n",
       "      <th>8</th>\n",
       "      <td>Bronze</td>\n",
       "      <td>Waterways</td>\n",
       "      <td>157</td>\n",
       "    </tr>\n",
       "    <tr>\n",
       "      <th>9</th>\n",
       "      <td>Clay</td>\n",
       "      <td>Airways</td>\n",
       "      <td>238</td>\n",
       "    </tr>\n",
       "    <tr>\n",
       "      <th>10</th>\n",
       "      <td>Clay</td>\n",
       "      <td>Roadways</td>\n",
       "      <td>254</td>\n",
       "    </tr>\n",
       "    <tr>\n",
       "      <th>11</th>\n",
       "      <td>Clay</td>\n",
       "      <td>Waterways</td>\n",
       "      <td>160</td>\n",
       "    </tr>\n",
       "    <tr>\n",
       "      <th>12</th>\n",
       "      <td>Marble</td>\n",
       "      <td>Airways</td>\n",
       "      <td>229</td>\n",
       "    </tr>\n",
       "    <tr>\n",
       "      <th>13</th>\n",
       "      <td>Marble</td>\n",
       "      <td>Roadways</td>\n",
       "      <td>293</td>\n",
       "    </tr>\n",
       "    <tr>\n",
       "      <th>14</th>\n",
       "      <td>Marble</td>\n",
       "      <td>Waterways</td>\n",
       "      <td>136</td>\n",
       "    </tr>\n",
       "    <tr>\n",
       "      <th>15</th>\n",
       "      <td>Stone</td>\n",
       "      <td>Airways</td>\n",
       "      <td>241</td>\n",
       "    </tr>\n",
       "    <tr>\n",
       "      <th>16</th>\n",
       "      <td>Stone</td>\n",
       "      <td>Roadways</td>\n",
       "      <td>243</td>\n",
       "    </tr>\n",
       "    <tr>\n",
       "      <th>17</th>\n",
       "      <td>Stone</td>\n",
       "      <td>Waterways</td>\n",
       "      <td>131</td>\n",
       "    </tr>\n",
       "    <tr>\n",
       "      <th>18</th>\n",
       "      <td>Wood</td>\n",
       "      <td>Airways</td>\n",
       "      <td>219</td>\n",
       "    </tr>\n",
       "    <tr>\n",
       "      <th>19</th>\n",
       "      <td>Wood</td>\n",
       "      <td>Roadways</td>\n",
       "      <td>254</td>\n",
       "    </tr>\n",
       "    <tr>\n",
       "      <th>20</th>\n",
       "      <td>Wood</td>\n",
       "      <td>Waterways</td>\n",
       "      <td>177</td>\n",
       "    </tr>\n",
       "  </tbody>\n",
       "</table>\n",
       "</div>"
      ],
      "text/plain": [
       "     Material  Transport  Count\n",
       "0   Aluminium    Airways    247\n",
       "1   Aluminium   Roadways    294\n",
       "2   Aluminium  Waterways    175\n",
       "3       Brass    Airways    218\n",
       "4       Brass   Roadways    276\n",
       "5       Brass  Waterways    177\n",
       "6      Bronze    Airways    234\n",
       "7      Bronze   Roadways    245\n",
       "8      Bronze  Waterways    157\n",
       "9        Clay    Airways    238\n",
       "10       Clay   Roadways    254\n",
       "11       Clay  Waterways    160\n",
       "12     Marble    Airways    229\n",
       "13     Marble   Roadways    293\n",
       "14     Marble  Waterways    136\n",
       "15      Stone    Airways    241\n",
       "16      Stone   Roadways    243\n",
       "17      Stone  Waterways    131\n",
       "18       Wood    Airways    219\n",
       "19       Wood   Roadways    254\n",
       "20       Wood  Waterways    177"
      ]
     },
     "execution_count": 12,
     "metadata": {},
     "output_type": "execute_result"
    }
   ],
   "source": [
    "grouped_Data = shipping_data.groupby(['Material', 'Transport'], as_index=False).count()[['Material', 'Transport', 'Customer Id']]\n",
    "grouped_Data.columns = ['Material', 'Transport', 'Count']\n",
    "grouped_Data"
   ]
  },
  {
   "cell_type": "markdown",
   "id": "e074783a",
   "metadata": {},
   "source": [
    "- From above, it is clearly evident that most used means of transportation for shipping any material is Roadways which can be used for Transport column's imputation."
   ]
  },
  {
   "cell_type": "markdown",
   "id": "0fb392da",
   "metadata": {},
   "source": [
    "#### Inspect 'Remote Location' attribute\n",
    "\n",
    "Let's find out the whether more shipment orders are made by the customers who are residing in a remote location or not. Based on that the possible value for replacing the null values can be determined."
   ]
  },
  {
   "cell_type": "code",
   "execution_count": 13,
   "id": "77c62c95",
   "metadata": {},
   "outputs": [
    {
     "data": {
      "text/plain": [
       "No     4594\n",
       "Yes    1135\n",
       "Name: Remote Location, dtype: int64"
      ]
     },
     "execution_count": 13,
     "metadata": {},
     "output_type": "execute_result"
    }
   ],
   "source": [
    "shipping_data[\"Remote Location\"].value_counts()"
   ]
  },
  {
   "cell_type": "markdown",
   "id": "3bd95492",
   "metadata": {},
   "source": [
    "- So \"No\" will be the imputation for Remote Location."
   ]
  },
  {
   "cell_type": "markdown",
   "id": "d738b3c8",
   "metadata": {},
   "source": [
    "#### Inspect \"Artist Reputation\" attribute\n",
    "\n",
    "Let's find out whether there are any multiple records for an artist."
   ]
  },
  {
   "cell_type": "code",
   "execution_count": 14,
   "id": "11d09f5a",
   "metadata": {},
   "outputs": [
    {
     "data": {
      "text/plain": [
       "0         James Davis\n",
       "1     Michael Johnson\n",
       "2         Mary Martin\n",
       "3      Elizabeth Ross\n",
       "4        Joseph Jones\n",
       "           ...       \n",
       "92        James Smith\n",
       "93    David Henderson\n",
       "94      William Brown\n",
       "95       Robert Davis\n",
       "96      Charles Jones\n",
       "Name: Artist Name, Length: 97, dtype: object"
      ]
     },
     "execution_count": 14,
     "metadata": {},
     "output_type": "execute_result"
    }
   ],
   "source": [
    "# Group by Category and filter groups with more than one row\n",
    "filtered_df = shipping_data.groupby('Artist Name').filter(lambda x: len(x) > 1)\n",
    "\n",
    "# Reset index\n",
    "filtered_df = filtered_df.reset_index(drop=True)\n",
    "\n",
    "# Print the result\n",
    "\n",
    "filtered_df[\"Artist Name\"]"
   ]
  },
  {
   "cell_type": "markdown",
   "id": "c57daa36",
   "metadata": {},
   "source": [
    "Now let's find any one of the arist having null as artist reputation in one of the entries."
   ]
  },
  {
   "cell_type": "code",
   "execution_count": 15,
   "id": "a9cf36d7",
   "metadata": {},
   "outputs": [
    {
     "data": {
      "text/html": [
       "<div>\n",
       "<style scoped>\n",
       "    .dataframe tbody tr th:only-of-type {\n",
       "        vertical-align: middle;\n",
       "    }\n",
       "\n",
       "    .dataframe tbody tr th {\n",
       "        vertical-align: top;\n",
       "    }\n",
       "\n",
       "    .dataframe thead th {\n",
       "        text-align: right;\n",
       "    }\n",
       "</style>\n",
       "<table border=\"1\" class=\"dataframe\">\n",
       "  <thead>\n",
       "    <tr style=\"text-align: right;\">\n",
       "      <th></th>\n",
       "      <th>Artist Name</th>\n",
       "      <th>Artist Reputation</th>\n",
       "    </tr>\n",
       "  </thead>\n",
       "  <tbody>\n",
       "    <tr>\n",
       "      <th>2747</th>\n",
       "      <td>Robert Davis</td>\n",
       "      <td>0.63</td>\n",
       "    </tr>\n",
       "    <tr>\n",
       "      <th>3182</th>\n",
       "      <td>Robert Davis</td>\n",
       "      <td>NaN</td>\n",
       "    </tr>\n",
       "    <tr>\n",
       "      <th>6367</th>\n",
       "      <td>Robert Davis</td>\n",
       "      <td>0.14</td>\n",
       "    </tr>\n",
       "  </tbody>\n",
       "</table>\n",
       "</div>"
      ],
      "text/plain": [
       "       Artist Name  Artist Reputation\n",
       "2747  Robert Davis               0.63\n",
       "3182  Robert Davis                NaN\n",
       "6367  Robert Davis               0.14"
      ]
     },
     "execution_count": 15,
     "metadata": {},
     "output_type": "execute_result"
    }
   ],
   "source": [
    "shipping_data[shipping_data[\"Artist Name\"] == \"Robert Davis\"][[\"Artist Name\",\"Artist Reputation\"]]"
   ]
  },
  {
   "cell_type": "markdown",
   "id": "8ea663e0",
   "metadata": {},
   "source": [
    "For missing values in \"Artist Reputation\" column, the mean reputation value of the same artist can be replaced."
   ]
  },
  {
   "cell_type": "markdown",
   "id": "d123a6a9",
   "metadata": {},
   "source": [
    "#### Any Incorrect data?\n",
    "\n",
    "- Costs and Measurements must be positive. So let's check all the related columns."
   ]
  },
  {
   "cell_type": "code",
   "execution_count": 16,
   "id": "fb3997b3",
   "metadata": {},
   "outputs": [
    {
     "data": {
      "text/plain": [
       "659"
      ]
     },
     "execution_count": 16,
     "metadata": {},
     "output_type": "execute_result"
    }
   ],
   "source": [
    "len(shipping_data[shipping_data.Cost < 0])"
   ]
  },
  {
   "cell_type": "code",
   "execution_count": 17,
   "id": "0cd61e08",
   "metadata": {},
   "outputs": [
    {
     "data": {
      "text/plain": [
       "0"
      ]
     },
     "execution_count": 17,
     "metadata": {},
     "output_type": "execute_result"
    }
   ],
   "source": [
    "len(shipping_data[shipping_data.Height < 0])"
   ]
  },
  {
   "cell_type": "code",
   "execution_count": 18,
   "id": "7639968c",
   "metadata": {},
   "outputs": [
    {
     "data": {
      "text/plain": [
       "0"
      ]
     },
     "execution_count": 18,
     "metadata": {},
     "output_type": "execute_result"
    }
   ],
   "source": [
    "len(shipping_data[shipping_data.Weight < 0])"
   ]
  },
  {
   "cell_type": "code",
   "execution_count": 19,
   "id": "514e3448",
   "metadata": {},
   "outputs": [
    {
     "data": {
      "text/plain": [
       "0"
      ]
     },
     "execution_count": 19,
     "metadata": {},
     "output_type": "execute_result"
    }
   ],
   "source": [
    "len(shipping_data[shipping_data.Width < 0])"
   ]
  },
  {
   "cell_type": "code",
   "execution_count": 20,
   "id": "87db70d3",
   "metadata": {},
   "outputs": [
    {
     "data": {
      "text/plain": [
       "0"
      ]
     },
     "execution_count": 20,
     "metadata": {},
     "output_type": "execute_result"
    }
   ],
   "source": [
    "len(shipping_data[shipping_data[\"Price Of Sculpture\"] < 0])"
   ]
  },
  {
   "cell_type": "code",
   "execution_count": 21,
   "id": "122f6693",
   "metadata": {},
   "outputs": [
    {
     "data": {
      "text/plain": [
       "0"
      ]
     },
     "execution_count": 21,
     "metadata": {},
     "output_type": "execute_result"
    }
   ],
   "source": [
    "len(shipping_data[shipping_data[\"Base Shipping Price\"] < 0])"
   ]
  },
  {
   "cell_type": "markdown",
   "id": "b0c94962",
   "metadata": {},
   "source": [
    "So, only Cost column has negative values which are incorrect. May be those are due to wrong entry which need to be corrected.\n",
    "\n",
    "Before cleaning the data, let's have a look at the correlation and find the impact of features on the Cost column & also Base shipping Price."
   ]
  },
  {
   "cell_type": "code",
   "execution_count": 22,
   "id": "c6065b3c",
   "metadata": {},
   "outputs": [
    {
     "data": {
      "text/html": [
       "<div>\n",
       "<style scoped>\n",
       "    .dataframe tbody tr th:only-of-type {\n",
       "        vertical-align: middle;\n",
       "    }\n",
       "\n",
       "    .dataframe tbody tr th {\n",
       "        vertical-align: top;\n",
       "    }\n",
       "\n",
       "    .dataframe thead th {\n",
       "        text-align: right;\n",
       "    }\n",
       "</style>\n",
       "<table border=\"1\" class=\"dataframe\">\n",
       "  <thead>\n",
       "    <tr style=\"text-align: right;\">\n",
       "      <th></th>\n",
       "      <th>Cost</th>\n",
       "      <th>Base Shipping Price</th>\n",
       "    </tr>\n",
       "  </thead>\n",
       "  <tbody>\n",
       "    <tr>\n",
       "      <th>Artist Reputation</th>\n",
       "      <td>0.067368</td>\n",
       "      <td>-0.011820</td>\n",
       "    </tr>\n",
       "    <tr>\n",
       "      <th>Height</th>\n",
       "      <td>0.106047</td>\n",
       "      <td>0.353858</td>\n",
       "    </tr>\n",
       "    <tr>\n",
       "      <th>Width</th>\n",
       "      <td>0.158159</td>\n",
       "      <td>0.332361</td>\n",
       "    </tr>\n",
       "    <tr>\n",
       "      <th>Weight</th>\n",
       "      <td>0.417263</td>\n",
       "      <td>0.150856</td>\n",
       "    </tr>\n",
       "    <tr>\n",
       "      <th>Price Of Sculpture</th>\n",
       "      <td>0.476231</td>\n",
       "      <td>0.134407</td>\n",
       "    </tr>\n",
       "    <tr>\n",
       "      <th>Base Shipping Price</th>\n",
       "      <td>0.053068</td>\n",
       "      <td>1.000000</td>\n",
       "    </tr>\n",
       "    <tr>\n",
       "      <th>Cost</th>\n",
       "      <td>1.000000</td>\n",
       "      <td>0.053068</td>\n",
       "    </tr>\n",
       "  </tbody>\n",
       "</table>\n",
       "</div>"
      ],
      "text/plain": [
       "                         Cost  Base Shipping Price\n",
       "Artist Reputation    0.067368            -0.011820\n",
       "Height               0.106047             0.353858\n",
       "Width                0.158159             0.332361\n",
       "Weight               0.417263             0.150856\n",
       "Price Of Sculpture   0.476231             0.134407\n",
       "Base Shipping Price  0.053068             1.000000\n",
       "Cost                 1.000000             0.053068"
      ]
     },
     "execution_count": 22,
     "metadata": {},
     "output_type": "execute_result"
    }
   ],
   "source": [
    "shipping_data.corr()[[\"Cost\",\"Base Shipping Price\"]]"
   ]
  },
  {
   "cell_type": "markdown",
   "id": "2abc4a02",
   "metadata": {},
   "source": [
    "- It seems to be Weight and Price of the Sculpture are having a significant impact on the Cost of the shipment order.\n",
    "- When it comes to the Base Shipping Price, Height and Width of the sculpture are having a considerable effect."
   ]
  },
  {
   "cell_type": "markdown",
   "id": "86bae246",
   "metadata": {},
   "source": [
    "## Data Cleaning"
   ]
  },
  {
   "cell_type": "code",
   "execution_count": 23,
   "id": "fc0c0cf3",
   "metadata": {},
   "outputs": [],
   "source": [
    "shipping_data_copy = shipping_data.copy()"
   ]
  },
  {
   "cell_type": "markdown",
   "id": "5f0673a6",
   "metadata": {},
   "source": [
    "#### Correcting Artist Reputation Column\n",
    "\n",
    "Replace the null values in Artist Reputation with the mean of reputation values of same artist from other rows."
   ]
  },
  {
   "cell_type": "code",
   "execution_count": 24,
   "id": "2826764c",
   "metadata": {},
   "outputs": [],
   "source": [
    "def reputation(dataframe):\n",
    "    for i in dataframe[dataframe['Artist Reputation'].isna()]['Artist Name'].tolist():\n",
    "        if dataframe[dataframe['Artist Name']==i].loc[:, 'Artist Reputation'].values[0] > 0:\n",
    "            #print(\"Artist imputed for\", i)\n",
    "            value_impute = np.mean(dataframe[dataframe['Artist Name']==i]['Artist Reputation'])\n",
    "            dataframe.loc[dataframe['Artist Name'] == i, \"Artist Reputation\"] = value_impute   \n",
    "    return dataframe"
   ]
  },
  {
   "cell_type": "code",
   "execution_count": 25,
   "id": "690d91cf",
   "metadata": {},
   "outputs": [],
   "source": [
    "shipping_data_clean = reputation(shipping_data_copy)"
   ]
  },
  {
   "cell_type": "code",
   "execution_count": 26,
   "id": "603ac8c4",
   "metadata": {},
   "outputs": [
    {
     "data": {
      "text/plain": [
       "9"
      ]
     },
     "execution_count": 26,
     "metadata": {},
     "output_type": "execute_result"
    }
   ],
   "source": [
    "shipping_data['Artist Reputation'].isna().sum() - shipping_data_clean['Artist Reputation'].isna().sum()"
   ]
  },
  {
   "cell_type": "markdown",
   "id": "2889e2a9",
   "metadata": {},
   "source": [
    "- Still there are 9 records with null values in Artist Reputation after replacing. These 9 values can be replaced with the median of Artist Reputation feature."
   ]
  },
  {
   "cell_type": "code",
   "execution_count": 27,
   "id": "d66bd00d",
   "metadata": {},
   "outputs": [],
   "source": [
    "shipping_data_clean['Artist Reputation'] = shipping_data_clean['Artist Reputation'].\\\n",
    "                                        fillna(shipping_data_clean['Artist Reputation'].median())"
   ]
  },
  {
   "cell_type": "code",
   "execution_count": 28,
   "id": "6456884a",
   "metadata": {},
   "outputs": [
    {
     "data": {
      "text/plain": [
       "0"
      ]
     },
     "execution_count": 28,
     "metadata": {},
     "output_type": "execute_result"
    }
   ],
   "source": [
    "shipping_data_clean['Artist Reputation'].isna().sum()"
   ]
  },
  {
   "cell_type": "markdown",
   "id": "d7294229",
   "metadata": {},
   "source": [
    "- Finally, all the null values in Artist Reputation column are eliminated."
   ]
  },
  {
   "cell_type": "markdown",
   "id": "40200698",
   "metadata": {},
   "source": [
    "#### Impute Height & Width Columns\n",
    "\n",
    "Replace the null values in Height & Width columns with their respective median values."
   ]
  },
  {
   "cell_type": "code",
   "execution_count": 29,
   "id": "51b211f0",
   "metadata": {},
   "outputs": [],
   "source": [
    "shipping_data_clean['Height'] = shipping_data_clean['Height'].fillna(shipping_data_clean['Height'].\\\n",
    "                                                                     median())\n",
    "shipping_data_clean['Width'] = shipping_data_clean['Width'].fillna(shipping_data_clean['Width'].\\\n",
    "                                                                   median())"
   ]
  },
  {
   "cell_type": "markdown",
   "id": "bdfebfb3",
   "metadata": {},
   "source": [
    "#### Correct Categorical Variables - Remote Location, Transport & Material"
   ]
  },
  {
   "cell_type": "markdown",
   "id": "80da8af7",
   "metadata": {},
   "source": [
    "In case of \"Remote Location\" & \"Transport\", the plan is to replace the null values with the mode of respective column, whereas in case of \"Material\", the missing values are labelled as \"Material_NA\""
   ]
  },
  {
   "cell_type": "code",
   "execution_count": 30,
   "id": "50173a60",
   "metadata": {},
   "outputs": [],
   "source": [
    "mode_Remote_Location = shipping_data_clean[\"Remote Location\"].mode().values[0]\n",
    "mode_Transport = shipping_data_clean[\"Transport\"].mode().values[0]\n",
    "\n",
    "shipping_data_clean[\"Remote Location\"] = shipping_data_clean[\"Remote Location\"].fillna(mode_Remote_Location)\n",
    "shipping_data_clean[\"Transport\"] = shipping_data_clean[\"Transport\"].fillna(mode_Transport)"
   ]
  },
  {
   "cell_type": "code",
   "execution_count": 31,
   "id": "0923bdba",
   "metadata": {},
   "outputs": [],
   "source": [
    "shipping_data_clean[\"Material\"] = shipping_data_clean[\"Material\"].fillna(\"Material_NA\")"
   ]
  },
  {
   "cell_type": "markdown",
   "id": "50695f54",
   "metadata": {},
   "source": [
    "#### Impute weight of each material using it's respective median"
   ]
  },
  {
   "cell_type": "markdown",
   "id": "102fd208",
   "metadata": {},
   "source": [
    "For this let's create a dictionary to store the median weight for each material"
   ]
  },
  {
   "cell_type": "code",
   "execution_count": 32,
   "id": "2a3f1538",
   "metadata": {},
   "outputs": [
    {
     "data": {
      "text/plain": [
       "{'Brass': 8066.0,\n",
       " 'Clay': 1374.0,\n",
       " 'Aluminium': 664.0,\n",
       " 'Wood': 251.0,\n",
       " 'Marble': 115395.0,\n",
       " 'Bronze': 5982.5,\n",
       " 'Stone': 221082.0,\n",
       " 'Material_NA': 3232.0}"
      ]
     },
     "execution_count": 32,
     "metadata": {},
     "output_type": "execute_result"
    }
   ],
   "source": [
    "median_material = {}\n",
    "for m in shipping_data_clean['Material'].unique().tolist():\n",
    "    if  pd.isna(m) == False:\n",
    "        median_weight = shipping_data_copy.groupby('Material').median()[['Weight']].loc[m].values[0]\n",
    "        median_material[m] = median_weight\n",
    "median_material"
   ]
  },
  {
   "cell_type": "code",
   "execution_count": 33,
   "id": "b39cabce",
   "metadata": {},
   "outputs": [],
   "source": [
    "shipping_data_clean['Weight'] = shipping_data_clean['Weight'].fillna(shipping_data_clean['Material'].\\\n",
    "                                                                     map(median_material))"
   ]
  },
  {
   "cell_type": "code",
   "execution_count": 34,
   "id": "77b6299c",
   "metadata": {},
   "outputs": [
    {
     "data": {
      "text/plain": [
       "Customer Id              0\n",
       "Artist Name              0\n",
       "Artist Reputation        0\n",
       "Height                   0\n",
       "Width                    0\n",
       "Weight                   0\n",
       "Material                 0\n",
       "Price Of Sculpture       0\n",
       "Base Shipping Price      0\n",
       "International            0\n",
       "Express Shipment         0\n",
       "Installation Included    0\n",
       "Transport                0\n",
       "Fragile                  0\n",
       "Customer Information     0\n",
       "Remote Location          0\n",
       "Scheduled Date           0\n",
       "Delivery Date            0\n",
       "Customer Location        0\n",
       "Cost                     0\n",
       "dtype: int64"
      ]
     },
     "execution_count": 34,
     "metadata": {},
     "output_type": "execute_result"
    }
   ],
   "source": [
    "shipping_data_clean.isnull().sum()"
   ]
  },
  {
   "cell_type": "markdown",
   "id": "c297a1d6",
   "metadata": {},
   "source": [
    "- Hurrayy!!!... All null values are cleared."
   ]
  },
  {
   "cell_type": "markdown",
   "id": "2574fd08",
   "metadata": {},
   "source": [
    "#### Correct negative values in Cost Column"
   ]
  },
  {
   "cell_type": "code",
   "execution_count": 35,
   "id": "42d6d1e9",
   "metadata": {},
   "outputs": [],
   "source": [
    "shipping_data_clean['Cost'] = shipping_data_clean['Cost'].abs()"
   ]
  },
  {
   "cell_type": "markdown",
   "id": "51b1878d",
   "metadata": {},
   "source": [
    "#### Delete columns that are not affecting Cost variable"
   ]
  },
  {
   "cell_type": "code",
   "execution_count": 36,
   "id": "8e8fa269",
   "metadata": {},
   "outputs": [],
   "source": [
    "shipping_data_clean = shipping_data_clean.drop(['Customer Id', 'Artist Name'], axis=1)"
   ]
  },
  {
   "cell_type": "markdown",
   "id": "2ff94874",
   "metadata": {},
   "source": [
    "## Outlier Detection"
   ]
  },
  {
   "cell_type": "code",
   "execution_count": 37,
   "id": "e31129b7",
   "metadata": {},
   "outputs": [
    {
     "data": {
      "text/plain": [
       "['Material',\n",
       " 'International',\n",
       " 'Express Shipment',\n",
       " 'Installation Included',\n",
       " 'Transport',\n",
       " 'Fragile',\n",
       " 'Customer Information',\n",
       " 'Remote Location',\n",
       " 'Customer Location']"
      ]
     },
     "execution_count": 37,
     "metadata": {},
     "output_type": "execute_result"
    }
   ],
   "source": [
    "categoricals = list(shipping_data_clean.select_dtypes(['object']).columns)\n",
    "categoricals"
   ]
  },
  {
   "cell_type": "code",
   "execution_count": 38,
   "id": "815390e7",
   "metadata": {},
   "outputs": [
    {
     "data": {
      "text/plain": [
       "['Artist Reputation',\n",
       " 'Height',\n",
       " 'Width',\n",
       " 'Weight',\n",
       " 'Price Of Sculpture',\n",
       " 'Base Shipping Price',\n",
       " 'Scheduled Date',\n",
       " 'Delivery Date',\n",
       " 'Cost']"
      ]
     },
     "execution_count": 38,
     "metadata": {},
     "output_type": "execute_result"
    }
   ],
   "source": [
    "numericals = [x for x in shipping_data_clean.columns if x not in categoricals]\n",
    "numericals"
   ]
  },
  {
   "cell_type": "code",
   "execution_count": 39,
   "id": "2dd1efac",
   "metadata": {},
   "outputs": [],
   "source": [
    "numericals.remove('Scheduled Date')\n",
    "numericals.remove('Delivery Date')"
   ]
  },
  {
   "cell_type": "code",
   "execution_count": 40,
   "id": "632b3ee4",
   "metadata": {},
   "outputs": [
    {
     "name": "stdout",
     "output_type": "stream",
     "text": [
      "Artist Reputation 0.1666900982577487\n",
      "Height 0.6368970586603213\n",
      "Width 1.6832748044141834\n",
      "Weight 22.580169148788222\n",
      "Price Of Sculpture 22.20682307949474\n",
      "Base Shipping Price 0.9181023776582664\n",
      "Cost 29.86640618935751\n"
     ]
    }
   ],
   "source": [
    "for each in numericals:\n",
    "    print(each, np.abs(shipping_data_clean[each].skew()))"
   ]
  },
  {
   "cell_type": "markdown",
   "id": "ba93e5e9",
   "metadata": {},
   "source": [
    "- Cost, Price of Sculpture, Weight, Width columns have predominent outliers."
   ]
  },
  {
   "cell_type": "code",
   "execution_count": 41,
   "id": "ae40621e",
   "metadata": {},
   "outputs": [
    {
     "data": {
      "text/plain": [
       "[Text(0.5, 1.0, 'Box Plot on Cost Column')]"
      ]
     },
     "execution_count": 41,
     "metadata": {},
     "output_type": "execute_result"
    },
    {
     "data": {
      "image/png": "[encoded data removed]",
      "text/plain": [
       "<Figure size 640x480 with 1 Axes>"
      ]
     },
     "metadata": {},
     "output_type": "display_data"
    }
   ],
   "source": [
    "#b_plot = shipping_data_clean.boxplot(column = 'Cost')\n",
    "#b_plot.plot()\n",
    "sns.boxplot(x = shipping_data_clean['Cost']).set(title='Box Plot on Cost Column')"
   ]
  },
  {
   "cell_type": "code",
   "execution_count": 42,
   "id": "47746a4d",
   "metadata": {},
   "outputs": [
    {
     "data": {
      "text/html": [
       "<div>\n",
       "<style scoped>\n",
       "    .dataframe tbody tr th:only-of-type {\n",
       "        vertical-align: middle;\n",
       "    }\n",
       "\n",
       "    .dataframe tbody tr th {\n",
       "        vertical-align: top;\n",
       "    }\n",
       "\n",
       "    .dataframe thead th {\n",
       "        text-align: right;\n",
       "    }\n",
       "</style>\n",
       "<table border=\"1\" class=\"dataframe\">\n",
       "  <thead>\n",
       "    <tr style=\"text-align: right;\">\n",
       "      <th></th>\n",
       "      <th>Top shipping cost</th>\n",
       "    </tr>\n",
       "  </thead>\n",
       "  <tbody>\n",
       "    <tr>\n",
       "      <th>5164</th>\n",
       "      <td>11143428.25</td>\n",
       "    </tr>\n",
       "    <tr>\n",
       "      <th>4431</th>\n",
       "      <td>9177540.38</td>\n",
       "    </tr>\n",
       "    <tr>\n",
       "      <th>2772</th>\n",
       "      <td>4992890.84</td>\n",
       "    </tr>\n",
       "    <tr>\n",
       "      <th>4787</th>\n",
       "      <td>4976100.89</td>\n",
       "    </tr>\n",
       "    <tr>\n",
       "      <th>4560</th>\n",
       "      <td>4020731.90</td>\n",
       "    </tr>\n",
       "  </tbody>\n",
       "</table>\n",
       "</div>"
      ],
      "text/plain": [
       "      Top shipping cost\n",
       "5164        11143428.25\n",
       "4431         9177540.38\n",
       "2772         4992890.84\n",
       "4787         4976100.89\n",
       "4560         4020731.90"
      ]
     },
     "execution_count": 42,
     "metadata": {},
     "output_type": "execute_result"
    }
   ],
   "source": [
    "# identify heightest shipping cost as outliers\n",
    "pd.Series(shipping_data_clean['Cost'].sort_values(ascending = False), name = 'Top shipping cost').to_frame().head()"
   ]
  },
  {
   "cell_type": "code",
   "execution_count": 43,
   "id": "9f259f56",
   "metadata": {},
   "outputs": [],
   "source": [
    "# drop 5 highest cost outliers\n",
    "drop_outlier = shipping_data_clean[shipping_data_clean['Cost'] > 4000000]\n",
    "shipping_data_clean.drop(drop_outlier.index, inplace=True)"
   ]
  },
  {
   "cell_type": "markdown",
   "id": "7a10cade",
   "metadata": {},
   "source": [
    "## Feature Engineering"
   ]
  },
  {
   "cell_type": "markdown",
   "id": "4293af41",
   "metadata": {},
   "source": [
    "Let's create new features for analysis\n",
    "\n",
    "Dates attributes:\n",
    "\n",
    "- Create new features by breaking down these dates to Year, Month, Date, Day of Week\n",
    "- Create delta time period feature. This is define as the days difference between planned delivery and actual delivery date"
   ]
  },
  {
   "cell_type": "code",
   "execution_count": 44,
   "id": "aa56f964",
   "metadata": {},
   "outputs": [],
   "source": [
    "# create new date features from scheduled date, for better visualizations\n",
    "shipping_data_clean['scheduled_year'] = shipping_data_clean['Scheduled Date'].dt.year\n",
    "shipping_data_clean['scheduled_month'] = shipping_data_clean['Scheduled Date'].dt.month\n",
    "shipping_data_clean['scheduled_day'] = pd.DatetimeIndex(shipping_data_clean['Scheduled Date']).\\\n",
    "                                                                                            weekday\n",
    "shipping_data_clean['scheduled_dateofmonth'] = shipping_data_clean['Scheduled Date'].dt.day"
   ]
  },
  {
   "cell_type": "code",
   "execution_count": 45,
   "id": "a68a3d5f",
   "metadata": {},
   "outputs": [],
   "source": [
    "# create new date features from delivery date, for better visualizations\n",
    "shipping_data_clean['delivery_year'] = shipping_data_clean['Delivery Date'].dt.year\n",
    "shipping_data_clean['delivery_month'] = shipping_data_clean['Delivery Date'].dt.month\n",
    "shipping_data_clean['delivery_day'] = pd.DatetimeIndex(shipping_data_clean['Delivery Date']).weekday\n",
    "shipping_data_clean['delivery_dateofmonth'] = shipping_data_clean['Delivery Date'].dt.day"
   ]
  },
  {
   "cell_type": "code",
   "execution_count": 46,
   "id": "688239f4",
   "metadata": {},
   "outputs": [],
   "source": [
    "shipping_data_clean['delta'] = shipping_data_clean['Delivery Date'] - shipping_data_clean['Scheduled Date']"
   ]
  },
  {
   "cell_type": "code",
   "execution_count": 47,
   "id": "f073359a",
   "metadata": {},
   "outputs": [
    {
     "data": {
      "text/plain": [
       "0    -4 \n",
       "1    -1 \n",
       "2    -1 \n",
       "3    -4 \n",
       "4    -4 \n",
       "Name: delta, dtype: object"
      ]
     },
     "execution_count": 47,
     "metadata": {},
     "output_type": "execute_result"
    }
   ],
   "source": [
    "shipping_data_clean['delta'] = shipping_data_clean['delta'].astype(str).map(lambda x: x.split('days')[0])\n",
    "\n",
    "# 5 examples\n",
    "shipping_data_clean['delta'][:5]"
   ]
  },
  {
   "cell_type": "markdown",
   "id": "ac718d2a",
   "metadata": {},
   "source": [
    "### Address Attributes\n",
    "\n",
    "For simplicity, extract state from the address. "
   ]
  },
  {
   "cell_type": "code",
   "execution_count": 48,
   "id": "da64ea81",
   "metadata": {},
   "outputs": [
    {
     "data": {
      "text/plain": [
       "array(['New Michelle, OH 50777', 'New Michaelport, WY 12072',\n",
       "       'Bowmanshire, WA 19241', 'East Robyn, KY 86375',\n",
       "       'Aprilside, PA 52793', 'Maddenberg, AL 43096',\n",
       "       'South Matthew, WV 76033', 'Davidmouth, CA 37824',\n",
       "       'Lisaville, ND 43925', 'Jacobland, WV 85997',\n",
       "       'Brittanyside, GA 80351', 'Jacquelinemouth, WA 65740',\n",
       "       'Reidshire, DC 83551', 'West Shannonside, WA 15898',\n",
       "       'Kruegerchester, TX 85901', 'East Julia, CO 36716',\n",
       "       'Jimenezfurt, WY 87107', 'APO AE 89114', 'North Sarah, OR 85972',\n",
       "       'DPO AE 79107'], dtype=object)"
      ]
     },
     "execution_count": 48,
     "metadata": {},
     "output_type": "execute_result"
    }
   ],
   "source": [
    "# print examples of customer address\n",
    "shipping_data_clean['Customer Location'].unique()[:20]"
   ]
  },
  {
   "cell_type": "code",
   "execution_count": 49,
   "id": "77d8b771",
   "metadata": {},
   "outputs": [],
   "source": [
    "# only keep the US state code\n",
    "shipping_data_clean[['county', 'state1']] = shipping_data_clean['Customer Location'].\\\n",
    "                                                                        str.split(\", \", expand=True,)\n",
    "shipping_data_clean[['state', 'zip']] = shipping_data_clean['state1'].str.split(\" \", expand=True,)"
   ]
  },
  {
   "cell_type": "code",
   "execution_count": 50,
   "id": "d7006245",
   "metadata": {},
   "outputs": [],
   "source": [
    "# drop redundant columns\n",
    "shipping_data_clean = shipping_data_clean.drop(['Customer Location','county', 'state1', 'zip', \\\n",
    "                                                'Scheduled Date', 'Delivery Date'], axis=1)"
   ]
  },
  {
   "cell_type": "code",
   "execution_count": 51,
   "id": "379399f3",
   "metadata": {},
   "outputs": [
    {
     "data": {
      "text/plain": [
       "array(['OH', 'WY', 'WA', 'KY', 'PA', 'AL', 'WV', 'CA', 'ND', 'GA', 'DC',\n",
       "       'TX', 'CO', None, 'OR', 'MI', 'NM', 'AR', 'VT', 'IA', 'MN', 'NH',\n",
       "       'SC', 'OK', 'HI', 'RI', 'LA', 'DE', 'ID', 'CT', 'MS', 'FL', 'VA',\n",
       "       'MA', 'KS', 'ME', 'NC', 'NV', 'MD', 'SD', 'WI', 'MT', 'IL', 'AZ',\n",
       "       'AK', 'NY', 'NJ', 'TN', 'NE', 'MO', 'IN', 'UT'], dtype=object)"
      ]
     },
     "execution_count": 51,
     "metadata": {},
     "output_type": "execute_result"
    }
   ],
   "source": [
    "# check state column\n",
    "shipping_data_clean['state'].unique()"
   ]
  },
  {
   "cell_type": "code",
   "execution_count": 52,
   "id": "e7e13a0c",
   "metadata": {},
   "outputs": [],
   "source": [
    "shipping_data_clean.to_csv(\"Cleaned_Shipping_Details.csv\")"
   ]
  }
 ],
 "metadata": {
  "kernelspec": {
   "display_name": "Python 3 (ipykernel)",
   "language": "python",
   "name": "python3"
  },
  "language_info": {
   "codemirror_mode": {
    "name": "ipython",
    "version": 3
   },
   "file_extension": ".py",
   "mimetype": "text/x-python",
   "name": "python",
   "nbconvert_exporter": "python",
   "pygments_lexer": "ipython3",
   "version": "3.9.13"
  }
 },
 "nbformat": 4,
 "nbformat_minor": 5
}
